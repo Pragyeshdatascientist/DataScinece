{
 "cells": [
  {
   "cell_type": "code",
   "execution_count": 1,
   "id": "acc3141b",
   "metadata": {},
   "outputs": [
    {
     "name": "stdout",
     "output_type": "stream",
     "text": [
      "Pragyesg Singh\n"
     ]
    }
   ],
   "source": [
    "print(\"Pragyesg Singh\")"
   ]
  },
  {
   "cell_type": "code",
   "execution_count": null,
   "id": "268bfc17",
   "metadata": {},
   "outputs": [],
   "source": [
    "a"
   ]
  },
  {
   "cell_type": "markdown",
   "id": "aea02a49",
   "metadata": {},
   "source": [
    "hello data science"
   ]
  },
  {
   "cell_type": "code",
   "execution_count": 2,
   "id": "bb55b808",
   "metadata": {},
   "outputs": [
    {
     "name": "stdout",
     "output_type": "stream",
     "text": [
      "Hello Data Science\n"
     ]
    }
   ],
   "source": [
    "print(\"Hello Data Science\")"
   ]
  },
  {
   "cell_type": "code",
   "execution_count": null,
   "id": "8dee621d",
   "metadata": {},
   "outputs": [],
   "source": []
  }
 ],
 "metadata": {
  "kernelspec": {
   "display_name": "Python 3 (ipykernel)",
   "language": "python",
   "name": "python3"
  },
  "language_info": {
   "codemirror_mode": {
    "name": "ipython",
    "version": 3
   },
   "file_extension": ".py",
   "mimetype": "text/x-python",
   "name": "python",
   "nbconvert_exporter": "python",
   "pygments_lexer": "ipython3",
   "version": "3.11.5"
  }
 },
 "nbformat": 4,
 "nbformat_minor": 5
}
